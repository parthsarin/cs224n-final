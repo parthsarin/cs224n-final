{
 "cells": [
  {
   "cell_type": "code",
   "execution_count": 43,
   "id": "0cda12b6-1939-4189-af9e-f946bcf17890",
   "metadata": {},
   "outputs": [],
   "source": [
    "import os\n",
    "import pandas as pd\n",
    "import numpy as np\n",
    "from sklearn.metrics import confusion_matrix, f1_score"
   ]
  },
  {
   "cell_type": "code",
   "execution_count": 2,
   "id": "5feec99f-67a8-446e-aef8-02b1c192d55f",
   "metadata": {},
   "outputs": [],
   "source": [
    "actual = pd.read_csv('values_ml_papers.csv')"
   ]
  },
  {
   "cell_type": "code",
   "execution_count": 3,
   "id": "812d6665-2858-4dfe-8d36-24020cce05fd",
   "metadata": {},
   "outputs": [],
   "source": [
    "all_responses = [pd.read_csv('responses/' + f, usecols=['Title', 'response']) for f in os.listdir('responses') if 'csv' in f]\n",
    "df = pd.concat(all_responses)"
   ]
  },
  {
   "cell_type": "code",
   "execution_count": 4,
   "id": "99248b8f-ce6e-4c06-8b24-b87c63f7a609",
   "metadata": {},
   "outputs": [],
   "source": [
    "imploded = df.groupby('Title')['response'].apply(list).reset_index()"
   ]
  },
  {
   "cell_type": "code",
   "execution_count": 11,
   "id": "b83713c2-464a-4e90-9cf9-9e044534ead4",
   "metadata": {},
   "outputs": [
    {
     "name": "stderr",
     "output_type": "stream",
     "text": [
      "/var/folders/36/6lk0rs9x1r7chcsmnk80n6580000gn/T/ipykernel_86728/1706142083.py:1: FutureWarning: DataFrame.applymap has been deprecated. Use DataFrame.map instead.\n",
      "  results = pd.DataFrame(imploded['response'].to_list(), columns=actual.loc[:,'Novelty':'Fast'].columns).applymap(lambda x: x.lower() if isinstance(x, str) else x)\n"
     ]
    }
   ],
   "source": [
    "results = pd.DataFrame(imploded['response'].to_list(), columns=actual.loc[:,'Novelty':'Fast'].columns).applymap(lambda x: x.lower() if isinstance(x, str) else x)"
   ]
  },
  {
   "cell_type": "code",
   "execution_count": 37,
   "id": "71c93b59-2bfd-4240-a2a9-f37dc6443992",
   "metadata": {},
   "outputs": [],
   "source": [
    "results = results.replace({'yes': 1, 'no': 0, 'yes.': 1, 'no.': 0})\n",
    "results = results.map(lambda v: 0 if isinstance(v, str) and ('does not' in v or 'unanswerable' in v) else v)\n",
    "results = results.map(lambda v: 1 if isinstance(v, str) and 'yes' in v else v)\n",
    "results = results.map(lambda v: 0 if isinstance(v, str) else v)"
   ]
  },
  {
   "cell_type": "code",
   "execution_count": 53,
   "id": "aa116b7c-2e94-4a26-8307-8aebecb7b3c8",
   "metadata": {},
   "outputs": [
    {
     "data": {
      "text/plain": [
       "False"
      ]
     },
     "execution_count": 53,
     "metadata": {},
     "output_type": "execute_result"
    }
   ],
   "source": [
    "actual.Fairness[results.Fairness.dropna().index].any()"
   ]
  },
  {
   "cell_type": "code",
   "execution_count": 54,
   "id": "07eb49b6-1b87-489b-9055-51a2837ccfdc",
   "metadata": {},
   "outputs": [
    {
     "data": {
      "text/plain": [
       "False"
      ]
     },
     "execution_count": 54,
     "metadata": {},
     "output_type": "execute_result"
    }
   ],
   "source": [
    "results.Fairness.any()"
   ]
  },
  {
   "cell_type": "code",
   "execution_count": 56,
   "id": "1b852ef4-e43c-4534-88d2-7485711dca04",
   "metadata": {},
   "outputs": [
    {
     "name": "stderr",
     "output_type": "stream",
     "text": [
      "/Users/vyoma/miniconda3/lib/python3.11/site-packages/sklearn/metrics/_classification.py:386: UserWarning: A single label was found in 'y_true' and 'y_pred'. For the confusion matrix to have the correct shape, use the 'labels' parameter to pass all known labels.\n",
      "  warnings.warn(\n"
     ]
    },
    {
     "data": {
      "text/plain": [
       "array([70])"
      ]
     },
     "execution_count": 56,
     "metadata": {},
     "output_type": "execute_result"
    }
   ],
   "source": [
    "confusion_matrix(actual.Fairness[results.Fairness.dropna().index], results.Fairness.dropna()).ravel()"
   ]
  },
  {
   "cell_type": "code",
   "execution_count": 100,
   "id": "97d14717-faa9-4a5c-904e-2e2f213641e6",
   "metadata": {},
   "outputs": [],
   "source": [
    "def calculate_metrics(true_labels, predicted_labels):\n",
    "    true_ls = true_labels[predicted_labels.dropna().index]\n",
    "    pred_ls = predicted_labels.dropna()\n",
    "\n",
    "    tn = ((true_ls == 0) & (pred_ls == 0)).sum()\n",
    "    tp = ((true_ls == 1) & (pred_ls == 1)).sum()\n",
    "    fp = ((true_ls == 0) & (pred_ls == 1)).sum()\n",
    "    fn = ((true_ls == 1) & (pred_ls == 0)).sum()\n",
    "    print('True Positives:', tp, 'True Negatives:', tn, 'False Positives:', fp, 'False Negatives:', fn)\n",
    "    \n",
    "    fpr = fp / (fp + tn) if (fp + tn) > 0 else None  # None indicates not applicable or undefined\n",
    "    fnr = fn / (tp + fn) if (tp + fn) > 0 else None\n",
    "    \n",
    "    f1 = f1_score(true_ls, pred_ls, zero_division=1)\n",
    "    \n",
    "    return {\"FPR\": fpr, \"FNR\": fnr, \"F1 Score\": f1}"
   ]
  },
  {
   "cell_type": "code",
   "execution_count": 101,
   "id": "fed89e0c-3055-459e-bea3-8cb6fd3fa2cc",
   "metadata": {},
   "outputs": [
    {
     "name": "stdout",
     "output_type": "stream",
     "text": [
      "True Positives: 50 True Negatives: 0 False Positives: 17 False Negatives: 2\n"
     ]
    },
    {
     "data": {
      "text/plain": [
       "{'FPR': 1.0, 'FNR': 0.038461538461538464, 'F1 Score': 0.8403361344537815}"
      ]
     },
     "execution_count": 101,
     "metadata": {},
     "output_type": "execute_result"
    }
   ],
   "source": [
    "calculate_metrics(actual.Novelty, results.Novelty)"
   ]
  },
  {
   "cell_type": "code",
   "execution_count": 102,
   "id": "5b9a8882-f63c-453c-acbb-2e0d4cace21f",
   "metadata": {},
   "outputs": [
    {
     "name": "stdout",
     "output_type": "stream",
     "text": [
      "True Positives: 0 True Negatives: 70 False Positives: 0 False Negatives: 0\n"
     ]
    },
    {
     "data": {
      "text/plain": [
       "{'FPR': 0.0, 'FNR': None, 'F1 Score': 1.0}"
      ]
     },
     "execution_count": 102,
     "metadata": {},
     "output_type": "execute_result"
    }
   ],
   "source": [
    "calculate_metrics(actual.Fairness, results.Fairness)"
   ]
  },
  {
   "cell_type": "code",
   "execution_count": 103,
   "id": "449ff97b-641c-448c-997a-fa351eebd74a",
   "metadata": {},
   "outputs": [
    {
     "name": "stdout",
     "output_type": "stream",
     "text": [
      "True Positives: 49 True Negatives: 6 False Positives: 7 False Negatives: 8\n"
     ]
    },
    {
     "data": {
      "text/plain": [
       "{'FPR': 0.5384615384615384,\n",
       " 'FNR': 0.14035087719298245,\n",
       " 'F1 Score': 0.8672566371681416}"
      ]
     },
     "execution_count": 103,
     "metadata": {},
     "output_type": "execute_result"
    }
   ],
   "source": [
    "calculate_metrics(actual.Performance, results.Performance)"
   ]
  },
  {
   "cell_type": "code",
   "execution_count": 106,
   "id": "38a31f68-c039-4d06-a1c5-db10b45bdec8",
   "metadata": {},
   "outputs": [
    {
     "name": "stdout",
     "output_type": "stream",
     "text": [
      "True Positives: 1 True Negatives: 30 False Positives: 39 False Negatives: 0\n"
     ]
    },
    {
     "data": {
      "text/plain": [
       "{'FPR': 0.5652173913043478, 'FNR': 0.0, 'F1 Score': 0.04878048780487805}"
      ]
     },
     "execution_count": 106,
     "metadata": {},
     "output_type": "execute_result"
    }
   ],
   "source": [
    "calculate_metrics(actual.Reproducibility, results.Reproducibility)"
   ]
  },
  {
   "cell_type": "code",
   "execution_count": 109,
   "id": "af715ca7-0cb8-4743-87a4-b00e0a369a3d",
   "metadata": {},
   "outputs": [
    {
     "name": "stdout",
     "output_type": "stream",
     "text": [
      "True Positives: 4 True Negatives: 37 False Positives: 28 False Negatives: 1\n"
     ]
    },
    {
     "data": {
      "text/plain": [
       "{'FPR': 0.4307692307692308, 'FNR': 0.2, 'F1 Score': 0.21621621621621623}"
      ]
     },
     "execution_count": 109,
     "metadata": {},
     "output_type": "execute_result"
    }
   ],
   "source": [
    "calculate_metrics(actual['Easy to implement'], results['Easy to implement'])"
   ]
  },
  {
   "cell_type": "code",
   "execution_count": 110,
   "id": "10f547f9-0efa-4cba-868a-280172643356",
   "metadata": {},
   "outputs": [
    {
     "name": "stdout",
     "output_type": "stream",
     "text": [
      "True Positives: 10 True Negatives: 27 False Positives: 22 False Negatives: 11\n"
     ]
    },
    {
     "data": {
      "text/plain": [
       "{'FPR': 0.4489795918367347,\n",
       " 'FNR': 0.5238095238095238,\n",
       " 'F1 Score': 0.37735849056603776}"
      ]
     },
     "execution_count": 110,
     "metadata": {},
     "output_type": "execute_result"
    }
   ],
   "source": [
    "calculate_metrics(actual['Building on classic work'], results['Building on classic work'])"
   ]
  },
  {
   "cell_type": "code",
   "execution_count": 111,
   "id": "1094e734-0b73-4859-aae4-5f55ac5cb6fe",
   "metadata": {},
   "outputs": [
    {
     "name": "stdout",
     "output_type": "stream",
     "text": [
      "True Positives: 53 True Negatives: 1 False Positives: 14 False Negatives: 3\n"
     ]
    },
    {
     "data": {
      "text/plain": [
       "{'FPR': 0.9333333333333333,\n",
       " 'FNR': 0.05357142857142857,\n",
       " 'F1 Score': 0.8617886178861789}"
      ]
     },
     "execution_count": 111,
     "metadata": {},
     "output_type": "execute_result"
    }
   ],
   "source": [
    "calculate_metrics(actual['Building on recent work'], results['Building on recent work'])"
   ]
  },
  {
   "cell_type": "code",
   "execution_count": null,
   "id": "a6605e9f-6bb6-4260-8c06-758b5e86230a",
   "metadata": {},
   "outputs": [],
   "source": []
  }
 ],
 "metadata": {
  "kernelspec": {
   "display_name": "Python 3 (ipykernel)",
   "language": "python",
   "name": "python3"
  },
  "language_info": {
   "codemirror_mode": {
    "name": "ipython",
    "version": 3
   },
   "file_extension": ".py",
   "mimetype": "text/x-python",
   "name": "python",
   "nbconvert_exporter": "python",
   "pygments_lexer": "ipython3",
   "version": "3.11.4"
  }
 },
 "nbformat": 4,
 "nbformat_minor": 5
}
