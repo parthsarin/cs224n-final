{
 "cells": [
  {
   "cell_type": "code",
   "execution_count": 1,
   "id": "90b6f815-cc70-4f45-8e3d-ab3a51d2fa19",
   "metadata": {},
   "outputs": [],
   "source": [
    "import pandas as pd"
   ]
  },
  {
   "cell_type": "code",
   "execution_count": 2,
   "id": "5a2c6f2d-76f5-415f-a03d-6fca05c4095a",
   "metadata": {},
   "outputs": [
    {
     "data": {
      "text/html": [
       "<div>\n",
       "<style scoped>\n",
       "    .dataframe tbody tr th:only-of-type {\n",
       "        vertical-align: middle;\n",
       "    }\n",
       "\n",
       "    .dataframe tbody tr th {\n",
       "        vertical-align: top;\n",
       "    }\n",
       "\n",
       "    .dataframe thead th {\n",
       "        text-align: right;\n",
       "    }\n",
       "</style>\n",
       "<table border=\"1\" class=\"dataframe\">\n",
       "  <thead>\n",
       "    <tr style=\"text-align: right;\">\n",
       "      <th></th>\n",
       "      <th>Title</th>\n",
       "      <th>Prompt</th>\n",
       "    </tr>\n",
       "  </thead>\n",
       "  <tbody>\n",
       "    <tr>\n",
       "      <th>0</th>\n",
       "      <td>3D Object Recognition with Deep Belief Nets</td>\n",
       "      <td>I have the following research paper:\\n3D Objec...</td>\n",
       "    </tr>\n",
       "    <tr>\n",
       "      <th>1</th>\n",
       "      <td>3D Object Recognition with Deep Belief Nets</td>\n",
       "      <td>I have the following research paper:\\n3D Objec...</td>\n",
       "    </tr>\n",
       "    <tr>\n",
       "      <th>2</th>\n",
       "      <td>3D Object Recognition with Deep Belief Nets</td>\n",
       "      <td>I have the following research paper:\\n3D Objec...</td>\n",
       "    </tr>\n",
       "    <tr>\n",
       "      <th>3</th>\n",
       "      <td>3D Object Recognition with Deep Belief Nets</td>\n",
       "      <td>I have the following research paper:\\n3D Objec...</td>\n",
       "    </tr>\n",
       "    <tr>\n",
       "      <th>4</th>\n",
       "      <td>3D Object Recognition with Deep Belief Nets</td>\n",
       "      <td>I have the following research paper:\\n3D Objec...</td>\n",
       "    </tr>\n",
       "    <tr>\n",
       "      <th>...</th>\n",
       "      <td>...</td>\n",
       "      <td>...</td>\n",
       "    </tr>\n",
       "    <tr>\n",
       "      <th>7173</th>\n",
       "      <td>XLNet: Generalized Autoregressive Pretraining ...</td>\n",
       "      <td>I have the following research paper:\\nXLNet: G...</td>\n",
       "    </tr>\n",
       "    <tr>\n",
       "      <th>7174</th>\n",
       "      <td>XLNet: Generalized Autoregressive Pretraining ...</td>\n",
       "      <td>I have the following research paper:\\nXLNet: G...</td>\n",
       "    </tr>\n",
       "    <tr>\n",
       "      <th>7175</th>\n",
       "      <td>XLNet: Generalized Autoregressive Pretraining ...</td>\n",
       "      <td>I have the following research paper:\\nXLNet: G...</td>\n",
       "    </tr>\n",
       "    <tr>\n",
       "      <th>7176</th>\n",
       "      <td>XLNet: Generalized Autoregressive Pretraining ...</td>\n",
       "      <td>I have the following research paper:\\nXLNet: G...</td>\n",
       "    </tr>\n",
       "    <tr>\n",
       "      <th>7177</th>\n",
       "      <td>XLNet: Generalized Autoregressive Pretraining ...</td>\n",
       "      <td>I have the following research paper:\\nXLNet: G...</td>\n",
       "    </tr>\n",
       "  </tbody>\n",
       "</table>\n",
       "<p>7178 rows × 2 columns</p>\n",
       "</div>"
      ],
      "text/plain": [
       "                                                  Title  \\\n",
       "0           3D Object Recognition with Deep Belief Nets   \n",
       "1           3D Object Recognition with Deep Belief Nets   \n",
       "2           3D Object Recognition with Deep Belief Nets   \n",
       "3           3D Object Recognition with Deep Belief Nets   \n",
       "4           3D Object Recognition with Deep Belief Nets   \n",
       "...                                                 ...   \n",
       "7173  XLNet: Generalized Autoregressive Pretraining ...   \n",
       "7174  XLNet: Generalized Autoregressive Pretraining ...   \n",
       "7175  XLNet: Generalized Autoregressive Pretraining ...   \n",
       "7176  XLNet: Generalized Autoregressive Pretraining ...   \n",
       "7177  XLNet: Generalized Autoregressive Pretraining ...   \n",
       "\n",
       "                                                 Prompt  \n",
       "0     I have the following research paper:\\n3D Objec...  \n",
       "1     I have the following research paper:\\n3D Objec...  \n",
       "2     I have the following research paper:\\n3D Objec...  \n",
       "3     I have the following research paper:\\n3D Objec...  \n",
       "4     I have the following research paper:\\n3D Objec...  \n",
       "...                                                 ...  \n",
       "7173  I have the following research paper:\\nXLNet: G...  \n",
       "7174  I have the following research paper:\\nXLNet: G...  \n",
       "7175  I have the following research paper:\\nXLNet: G...  \n",
       "7176  I have the following research paper:\\nXLNet: G...  \n",
       "7177  I have the following research paper:\\nXLNet: G...  \n",
       "\n",
       "[7178 rows x 2 columns]"
      ]
     },
     "execution_count": 2,
     "metadata": {},
     "output_type": "execute_result"
    }
   ],
   "source": [
    "df = pd.read_csv('values_ml_classification_prompts.csv')\n",
    "df"
   ]
  },
  {
   "cell_type": "code",
   "execution_count": 18,
   "id": "594ee792-6e6f-452d-9259-56a8b7305362",
   "metadata": {},
   "outputs": [],
   "source": [
    "bucket = round(len(df)/12)"
   ]
  },
  {
   "cell_type": "code",
   "execution_count": 22,
   "id": "fb0f72e3-a082-40e2-8e0a-50fe17ae9512",
   "metadata": {},
   "outputs": [],
   "source": [
    "for i in range(12):\n",
    "    if i < 11:\n",
    "        df.iloc[i*bucket:(i+1)*bucket].to_csv(f'prompts/chunk_{i}.csv', index=False)\n",
    "    else:\n",
    "        df.iloc[i*bucket:].to_csv(f'prompts/chunk_{i}.csv', index=False)"
   ]
  }
 ],
 "metadata": {
  "kernelspec": {
   "display_name": "Python 3 (ipykernel)",
   "language": "python",
   "name": "python3"
  },
  "language_info": {
   "codemirror_mode": {
    "name": "ipython",
    "version": 3
   },
   "file_extension": ".py",
   "mimetype": "text/x-python",
   "name": "python",
   "nbconvert_exporter": "python",
   "pygments_lexer": "ipython3",
   "version": "3.11.4"
  }
 },
 "nbformat": 4,
 "nbformat_minor": 5
}
