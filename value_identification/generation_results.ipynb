{
 "cells": [
  {
   "cell_type": "code",
   "execution_count": 1,
   "id": "790ce519-77b7-4261-9dee-9497fb673e7c",
   "metadata": {},
   "outputs": [],
   "source": [
    "import pandas as pd\n",
    "from nltk.tokenize import sent_tokenize\n",
    "import re"
   ]
  },
  {
   "cell_type": "code",
   "execution_count": 31,
   "id": "9f40756a-a3c0-46b9-bbbb-2001fc532cf2",
   "metadata": {},
   "outputs": [],
   "source": [
    "df = pd.read_csv('generations/generation_responses/val_ml_excerpts.csv')\n",
    "df = df[df.response.notna()]"
   ]
  },
  {
   "cell_type": "code",
   "execution_count": 32,
   "id": "43805386-2300-4b7a-8855-a77726f6432c",
   "metadata": {},
   "outputs": [
    {
     "data": {
      "text/html": [
       "<div>\n",
       "<style scoped>\n",
       "    .dataframe tbody tr th:only-of-type {\n",
       "        vertical-align: middle;\n",
       "    }\n",
       "\n",
       "    .dataframe tbody tr th {\n",
       "        vertical-align: top;\n",
       "    }\n",
       "\n",
       "    .dataframe thead th {\n",
       "        text-align: right;\n",
       "    }\n",
       "</style>\n",
       "<table border=\"1\" class=\"dataframe\">\n",
       "  <thead>\n",
       "    <tr style=\"text-align: right;\">\n",
       "      <th></th>\n",
       "      <th>Title</th>\n",
       "      <th>Prompt</th>\n",
       "      <th>response</th>\n",
       "    </tr>\n",
       "  </thead>\n",
       "  <tbody>\n",
       "    <tr>\n",
       "      <th>0</th>\n",
       "      <td>Isolating Sources of Disentanglement in Variat...</td>\n",
       "      <td>I have the following research paper:\\nIsolatin...</td>\n",
       "      <td>I apologize, but I cannot find any explicit re...</td>\n",
       "    </tr>\n",
       "    <tr>\n",
       "      <th>1</th>\n",
       "      <td>Isolating Sources of Disentanglement in Variat...</td>\n",
       "      <td>I have the following research paper:\\nIsolatin...</td>\n",
       "      <td>This paper does not contain any information on...</td>\n",
       "    </tr>\n",
       "    <tr>\n",
       "      <th>2</th>\n",
       "      <td>Isolating Sources of Disentanglement in Variat...</td>\n",
       "      <td>I have the following research paper:\\nIsolatin...</td>\n",
       "      <td>This paper does not include any excerpts relat...</td>\n",
       "    </tr>\n",
       "    <tr>\n",
       "      <th>3</th>\n",
       "      <td>Isolating Sources of Disentanglement in Variat...</td>\n",
       "      <td>I have the following research paper:\\nIsolatin...</td>\n",
       "      <td>The provided paper does not discuss privacy, o...</td>\n",
       "    </tr>\n",
       "    <tr>\n",
       "      <th>4</th>\n",
       "      <td>Isolating Sources of Disentanglement in Variat...</td>\n",
       "      <td>I have the following research paper:\\nIsolatin...</td>\n",
       "      <td>There is no mention of progress, advancement o...</td>\n",
       "    </tr>\n",
       "    <tr>\n",
       "      <th>...</th>\n",
       "      <td>...</td>\n",
       "      <td>...</td>\n",
       "      <td>...</td>\n",
       "    </tr>\n",
       "    <tr>\n",
       "      <th>6106</th>\n",
       "      <td>Using Pre-Training Can Improve Model Robustnes...</td>\n",
       "      <td>I have the following research paper:\\nUsing Pr...</td>\n",
       "      <td>This research paper does not contain qualitati...</td>\n",
       "    </tr>\n",
       "    <tr>\n",
       "      <th>6107</th>\n",
       "      <td>Using Pre-Training Can Improve Model Robustnes...</td>\n",
       "      <td>I have the following research paper:\\nUsing Pr...</td>\n",
       "      <td>- \"Our most striking result is that standard p...</td>\n",
       "    </tr>\n",
       "    <tr>\n",
       "      <th>6108</th>\n",
       "      <td>Using Pre-Training Can Improve Model Robustnes...</td>\n",
       "      <td>I have the following research paper:\\nUsing Pr...</td>\n",
       "      <td>The provided research paper does not contain a...</td>\n",
       "    </tr>\n",
       "    <tr>\n",
       "      <th>6109</th>\n",
       "      <td>Using Pre-Training Can Improve Model Robustnes...</td>\n",
       "      <td>I have the following research paper:\\nUsing Pr...</td>\n",
       "      <td>The provided research paper does not contain a...</td>\n",
       "    </tr>\n",
       "    <tr>\n",
       "      <th>6110</th>\n",
       "      <td>Using Pre-Training Can Improve Model Robustnes...</td>\n",
       "      <td>I have the following research paper:\\nUsing Pr...</td>\n",
       "      <td>This research paper does not contain any excer...</td>\n",
       "    </tr>\n",
       "  </tbody>\n",
       "</table>\n",
       "<p>2536 rows × 3 columns</p>\n",
       "</div>"
      ],
      "text/plain": [
       "                                                  Title  \\\n",
       "0     Isolating Sources of Disentanglement in Variat...   \n",
       "1     Isolating Sources of Disentanglement in Variat...   \n",
       "2     Isolating Sources of Disentanglement in Variat...   \n",
       "3     Isolating Sources of Disentanglement in Variat...   \n",
       "4     Isolating Sources of Disentanglement in Variat...   \n",
       "...                                                 ...   \n",
       "6106  Using Pre-Training Can Improve Model Robustnes...   \n",
       "6107  Using Pre-Training Can Improve Model Robustnes...   \n",
       "6108  Using Pre-Training Can Improve Model Robustnes...   \n",
       "6109  Using Pre-Training Can Improve Model Robustnes...   \n",
       "6110  Using Pre-Training Can Improve Model Robustnes...   \n",
       "\n",
       "                                                 Prompt  \\\n",
       "0     I have the following research paper:\\nIsolatin...   \n",
       "1     I have the following research paper:\\nIsolatin...   \n",
       "2     I have the following research paper:\\nIsolatin...   \n",
       "3     I have the following research paper:\\nIsolatin...   \n",
       "4     I have the following research paper:\\nIsolatin...   \n",
       "...                                                 ...   \n",
       "6106  I have the following research paper:\\nUsing Pr...   \n",
       "6107  I have the following research paper:\\nUsing Pr...   \n",
       "6108  I have the following research paper:\\nUsing Pr...   \n",
       "6109  I have the following research paper:\\nUsing Pr...   \n",
       "6110  I have the following research paper:\\nUsing Pr...   \n",
       "\n",
       "                                               response  \n",
       "0     I apologize, but I cannot find any explicit re...  \n",
       "1     This paper does not contain any information on...  \n",
       "2     This paper does not include any excerpts relat...  \n",
       "3     The provided paper does not discuss privacy, o...  \n",
       "4     There is no mention of progress, advancement o...  \n",
       "...                                                 ...  \n",
       "6106  This research paper does not contain qualitati...  \n",
       "6107  - \"Our most striking result is that standard p...  \n",
       "6108  The provided research paper does not contain a...  \n",
       "6109  The provided research paper does not contain a...  \n",
       "6110  This research paper does not contain any excer...  \n",
       "\n",
       "[2536 rows x 3 columns]"
      ]
     },
     "execution_count": 32,
     "metadata": {},
     "output_type": "execute_result"
    }
   ],
   "source": [
    "df"
   ]
  },
  {
   "cell_type": "code",
   "execution_count": 33,
   "id": "4356053b-7334-493f-99b8-4f0a2411e04c",
   "metadata": {},
   "outputs": [],
   "source": [
    "def sent_tokens(text):\n",
    "    sents = []\n",
    "    for line in text.split('\\n'):\n",
    "        if text != '':\n",
    "            sents.extend(sent_tokenize(line))\n",
    "    return sents"
   ]
  },
  {
   "cell_type": "code",
   "execution_count": 34,
   "id": "6beed882-6360-43d0-b289-c89fae84900f",
   "metadata": {},
   "outputs": [],
   "source": [
    "df['response_sents'] = df.response.map(sent_tokens)\n",
    "df['num_response_sents'] = df.response_sents.map(len)"
   ]
  },
  {
   "cell_type": "code",
   "execution_count": 36,
   "id": "597fb9a4-0416-4d16-9007-3c881e74db72",
   "metadata": {},
   "outputs": [],
   "source": [
    "def clean_sents(sent_list):\n",
    "    return [re.sub(r'^\\d+\\.', '', s.lstrip('- ').replace('*', '')).strip().strip('\"') for s in sent_list]"
   ]
  },
  {
   "cell_type": "code",
   "execution_count": 37,
   "id": "a1df93a1-bc6e-401c-9a55-c4146bea50ea",
   "metadata": {},
   "outputs": [],
   "source": [
    "df['cleaned_response_sents'] = df.response_sents.map(clean_sents)"
   ]
  },
  {
   "cell_type": "code",
   "execution_count": 39,
   "id": "4f5ec337-6566-4ae2-b59e-b4242294111f",
   "metadata": {},
   "outputs": [],
   "source": [
    "def filter_sents(row):\n",
    "    return [s for s in row.cleaned_response_sents if s in row.Prompt]"
   ]
  },
  {
   "cell_type": "code",
   "execution_count": 40,
   "id": "8c5c832e-c8f8-481b-bc31-761fd41ce0c5",
   "metadata": {},
   "outputs": [],
   "source": [
    "df['filtered_sents'] = df.apply(filter_sents, axis=1)\n",
    "df['num_filtered_sents'] = df.filtered_sents.map(len)"
   ]
  },
  {
   "cell_type": "code",
   "execution_count": 48,
   "id": "19920ea0-318b-43e1-9b55-d6ad7ae948ca",
   "metadata": {},
   "outputs": [
    {
     "data": {
      "text/plain": [
       "0.08793375394321766"
      ]
     },
     "execution_count": 48,
     "metadata": {},
     "output_type": "execute_result"
    }
   ],
   "source": [
    "(df.filtered_sents.map(len) > 0).mean()"
   ]
  },
  {
   "cell_type": "code",
   "execution_count": 49,
   "id": "fe2fb27e-fc93-4d34-a287-7e2983dd0ef7",
   "metadata": {},
   "outputs": [],
   "source": [
    "df.response = df.filtered_sents.map(lambda l: ' '.join(l))"
   ]
  },
  {
   "cell_type": "code",
   "execution_count": 50,
   "id": "63d7f680-beff-4e7a-b3bc-7813546d0d4e",
   "metadata": {},
   "outputs": [],
   "source": [
    "df['value'] = df.Prompt.map(lambda p: p.split('\\n\\n')[-1].split(', which refers to')[0][53:])"
   ]
  },
  {
   "cell_type": "code",
   "execution_count": 53,
   "id": "c5f27ccb-6a78-4ae3-a475-6c092e5312f5",
   "metadata": {},
   "outputs": [
    {
     "data": {
      "text/plain": [
       "0.5102974828375286"
      ]
     },
     "execution_count": 53,
     "metadata": {},
     "output_type": "execute_result"
    }
   ],
   "source": [
    "(df.num_filtered_sents >= 1)[df.num_response_sents > 1].mean()"
   ]
  }
 ],
 "metadata": {
  "kernelspec": {
   "display_name": "Python 3 (ipykernel)",
   "language": "python",
   "name": "python3"
  },
  "language_info": {
   "codemirror_mode": {
    "name": "ipython",
    "version": 3
   },
   "file_extension": ".py",
   "mimetype": "text/x-python",
   "name": "python",
   "nbconvert_exporter": "python",
   "pygments_lexer": "ipython3",
   "version": "3.11.4"
  }
 },
 "nbformat": 4,
 "nbformat_minor": 5
}
