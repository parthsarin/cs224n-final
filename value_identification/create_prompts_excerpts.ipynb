{
 "cells": [
  {
   "cell_type": "code",
   "execution_count": 2,
   "id": "3d554cc2-8bb3-4fd6-8f7f-932301f8673a",
   "metadata": {},
   "outputs": [],
   "source": [
    "import pandas as pd"
   ]
  },
  {
   "cell_type": "code",
   "execution_count": 24,
   "id": "ca55cebc-aaeb-4ec1-8dbf-7345bfbd2d3b",
   "metadata": {},
   "outputs": [],
   "source": [
    "val_ml = pd.read_csv('values_ml_papers.csv')"
   ]
  },
  {
   "cell_type": "code",
   "execution_count": 3,
   "id": "bfb39da9-ba17-4bcf-9ced-d0e93507c3e8",
   "metadata": {},
   "outputs": [],
   "source": [
    "acl_ocl = pd.read_csv('../../data/new_project_data.csv')"
   ]
  },
  {
   "cell_type": "code",
   "execution_count": 5,
   "id": "9aa225fe-a7b7-4681-91ef-151e2d86dc64",
   "metadata": {},
   "outputs": [],
   "source": [
    "values = \"\"\"Return a list of excerpts from this paper related to building on past work, which refers to the meaningful development over previous research findings and emphasis on cumulative advancement.\n",
    "Return a list of excerpts from this paper related to ease of implementation, which refers to how easily a method, tool, or idea can be put into practice.\n",
    "Return a list of excerpts from this paper related to fairness, which refers to making unbiased decisions and ensuring equitable treatment and opportunities.\n",
    "Return a list of excerpts from this paper related to novelty, which refers to the introduction of new ideas, methods, or findings that contribute original insights or advancements to a field.\n",
    "Return a list of excerpts from this paper related to performance, which refers to the effectiveness of a method, model, or system in achieving its objectives, often measured in terms of accuracy.\n",
    "Return a list of excerpts from this paper related to reproducibility, which refers to the ability of others to replicate the results of a study using the same methods or data.\"\"\".split('\\n')"
   ]
  },
  {
   "cell_type": "code",
   "execution_count": 12,
   "id": "f34c4ffb-3124-4792-ad0b-e75ca1a8ebdc",
   "metadata": {
    "scrolled": true
   },
   "outputs": [],
   "source": [
    "val_ml_prompts = []\n",
    "for t in val_ml.Text:\n",
    "    for v in values:\n",
    "        val_ml_prompts.append(f'I have the following research paper:\\n{t}\\n\\n{v}')"
   ]
  },
  {
   "cell_type": "code",
   "execution_count": 6,
   "id": "f0098537-6ef2-47b3-a3fb-75febc63a17b",
   "metadata": {},
   "outputs": [],
   "source": [
    "acl_ocl_prompts = []\n",
    "for t in acl_ocl.full_text:\n",
    "    for v in values:\n",
    "        acl_ocl_prompts.append(f'I have the following research paper:\\n{t}\\n\\n{v}')"
   ]
  },
  {
   "cell_type": "code",
   "execution_count": 15,
   "id": "635b4de2-9228-4441-a3e4-f4e568b67561",
   "metadata": {},
   "outputs": [],
   "source": [
    "val_ml_prompts_df = pd.DataFrame({'Title': val_ml.Title.apply(lambda x: [x] * len(values)).explode(), 'Prompt': val_ml_prompts})"
   ]
  },
  {
   "cell_type": "code",
   "execution_count": 8,
   "id": "d0f6c531-9c3d-4453-a14a-b72eb61cae82",
   "metadata": {},
   "outputs": [],
   "source": [
    "acl_ocl_prompts_df = pd.DataFrame({'ACL_ID': acl_ocl.acl_id.apply(lambda x: [x] * len(values)).explode(), 'Prompt': acl_ocl_prompts})"
   ]
  },
  {
   "cell_type": "code",
   "execution_count": 21,
   "id": "d0b66873-7c8d-4802-b12a-9abaa69efb75",
   "metadata": {},
   "outputs": [],
   "source": [
    "bucket = round(len(val_ml_prompts_df)/18)\n",
    "for i in range(18):\n",
    "    if i < 17:\n",
    "        val_ml_prompts_df.iloc[i*bucket:(i+1)*bucket].to_csv(f'generation_prompts/test_chunk_{i}.csv', index=False)\n",
    "    else:\n",
    "        val_ml_prompts_df.iloc[i*bucket:].to_csv(f'generation_prompts/test_chunk_{i}.csv', index=False)"
   ]
  },
  {
   "cell_type": "code",
   "execution_count": 11,
   "id": "9173727a-7388-4587-9f8c-280e059475d4",
   "metadata": {},
   "outputs": [],
   "source": [
    "bucket = round(len(acl_ocl_prompts_df)/3)\n",
    "for i in range(3):\n",
    "    if i < 17:\n",
    "        acl_ocl_prompts_df.iloc[i*bucket:(i+1)*bucket].to_csv(f'generations/generation_prompts/acl_chunk_{i}.csv', index=False)\n",
    "    else:\n",
    "        acl_ocl_prompts_df.iloc[i*bucket:].to_csv(f'generations/generation_prompts/acl_chunk_{i}.csv', index=False)"
   ]
  }
 ],
 "metadata": {
  "kernelspec": {
   "display_name": "Python 3 (ipykernel)",
   "language": "python",
   "name": "python3"
  },
  "language_info": {
   "codemirror_mode": {
    "name": "ipython",
    "version": 3
   },
   "file_extension": ".py",
   "mimetype": "text/x-python",
   "name": "python",
   "nbconvert_exporter": "python",
   "pygments_lexer": "ipython3",
   "version": "3.11.4"
  }
 },
 "nbformat": 4,
 "nbformat_minor": 5
}
