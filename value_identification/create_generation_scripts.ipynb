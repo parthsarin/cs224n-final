{
 "cells": [
  {
   "cell_type": "code",
   "execution_count": 37,
   "id": "8d410b07-0190-4cef-b3e2-bff7642152fa",
   "metadata": {},
   "outputs": [],
   "source": [
    "for set in ['test', 'acl']:\n",
    "    for i in range(3):\n",
    "        with open(f'generations/get_generations/{set}_prompts_{i}.py', 'w') as f:\n",
    "            f.write(f\"\"\"import google.generativeai as genai\n",
    "import pandas as pd\n",
    "from tqdm import tqdm\n",
    "import re\n",
    "\n",
    "tqdm.pandas()\n",
    "partition_num = '{i}'\n",
    "df = pd.read_csv(f'../generation_prompts/{set}_chunk_{i}.csv')\n",
    "\n",
    "genai.configure(api_key=\"{api_keys[i%3]}\")\n",
    "model = genai.GenerativeModel('gemini-pro')\n",
    "\n",
    "def get_response(row):\n",
    "    try:\n",
    "        response = model.generate_content(row.Prompt)\n",
    "    except Exception as e:\n",
    "        print(e)\n",
    "        return\n",
    "    try:\n",
    "        return response.text\n",
    "    except Exception as e:\n",
    "        try:\n",
    "            pattern = r'\\*\\*Response:\\*\\*(.*?)\\\\n\\\\n\\*\\*Additional Information:\\*\\*'\n",
    "            return re.search(pattern, r.parts[0].text, re.DOTALL).group(1).strip()\n",
    "        except Exception as x:\n",
    "            print(e)\n",
    "            print('***AND***')\n",
    "            print(x)\n",
    "\n",
    "df['response'] = df.progress_apply(get_response, axis=1)\n",
    "df.to_csv(f'../generation_responses/{set}_chunk_{i}.csv', index=False)\n",
    "\"\"\")"
   ]
  },
  {
   "cell_type": "code",
   "execution_count": 29,
   "id": "c2345028-d65d-4e02-ae98-620c914c9598",
   "metadata": {},
   "outputs": [],
   "source": [
    "import google.generativeai as genai\n",
    "import time\n",
    "import re"
   ]
  },
  {
   "cell_type": "code",
   "execution_count": 13,
   "id": "71a9594f-bbac-4024-96ac-8c06d8dafa6f",
   "metadata": {},
   "outputs": [],
   "source": [
    "genai.configure(api_key=f\"{api_keys[0]}\")\n",
    "model = genai.GenerativeModel('gemini-pro')\n",
    "\n",
    "def get_response(row):\n",
    "    try:\n",
    "        start_time = time.time()\n",
    "        response = model.generate_content(row)\n",
    "    except Exception as e:\n",
    "        print(e)\n",
    "    try:\n",
    "        elapsed_time = time.time()-start_time\n",
    "        if elapsed_time < 6:\n",
    "            time.sleep(6-elapsed_time)\n",
    "        if response:\n",
    "            return response\n",
    "    except Exception as e:\n",
    "        print(e)"
   ]
  },
  {
   "cell_type": "code",
   "execution_count": 14,
   "id": "1264fd74-4ba6-459e-879e-2607e476e682",
   "metadata": {},
   "outputs": [],
   "source": [
    "r = get_response('testing 123')"
   ]
  },
  {
   "cell_type": "code",
   "execution_count": 15,
   "id": "6531f3ad-e8a6-47f5-895a-242808319a29",
   "metadata": {},
   "outputs": [
    {
     "data": {
      "text/plain": [
       "<google.generativeai.types.generation_types.GenerateContentResponse at 0x1061938d0>"
      ]
     },
     "execution_count": 15,
     "metadata": {},
     "output_type": "execute_result"
    }
   ],
   "source": [
    "r"
   ]
  },
  {
   "cell_type": "code",
   "execution_count": 28,
   "id": "d0d469cb-4572-45e7-86a7-63c7d0f90647",
   "metadata": {},
   "outputs": [
    {
     "data": {
      "text/plain": [
       "['**Assistant**',\n",
       " '**Input:** testing 123',\n",
       " \"**Response:** Hello! I'm here to help you with your testing needs. How can I assist you today?\",\n",
       " \"**Additional Information:**\\nThis response demonstrates the assistant's ability to acknowledge the user's input and express its readiness to assist with testing-related tasks. It provides a friendly and helpful tone, encouraging the user to initiate a conversation. This response can be adapted to various contexts, such as software testing, web testing, or any other type of testing activity.\"]"
      ]
     },
     "execution_count": 28,
     "metadata": {},
     "output_type": "execute_result"
    }
   ],
   "source": [
    "r.parts[0].text.split('\\n\\n')"
   ]
  },
  {
   "cell_type": "code",
   "execution_count": 33,
   "id": "7a9f1baf-9371-4633-9371-aca3d83568d8",
   "metadata": {},
   "outputs": [
    {
     "data": {
      "text/plain": [
       "\"Hello! I'm here to help you with your testing needs. How can I assist you today?\""
      ]
     },
     "execution_count": 33,
     "metadata": {},
     "output_type": "execute_result"
    }
   ],
   "source": [
    "re.search(r'\\*\\*Response:\\*\\*(.*?)\\n\\n\\*\\*Additional Information:\\*\\*', r.parts[0].text, re.DOTALL).group(1).strip()"
   ]
  },
  {
   "cell_type": "code",
   "execution_count": null,
   "id": "e72e0024-7e94-4332-818c-c4576ebb5208",
   "metadata": {},
   "outputs": [],
   "source": []
  }
 ],
 "metadata": {
  "kernelspec": {
   "display_name": "Python 3 (ipykernel)",
   "language": "python",
   "name": "python3"
  },
  "language_info": {
   "codemirror_mode": {
    "name": "ipython",
    "version": 3
   },
   "file_extension": ".py",
   "mimetype": "text/x-python",
   "name": "python",
   "nbconvert_exporter": "python",
   "pygments_lexer": "ipython3",
   "version": "3.11.4"
  }
 },
 "nbformat": 4,
 "nbformat_minor": 5
}
