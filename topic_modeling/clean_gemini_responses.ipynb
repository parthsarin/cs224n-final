{
 "cells": [
  {
   "cell_type": "code",
   "execution_count": 1,
   "id": "790ce519-77b7-4261-9dee-9497fb673e7c",
   "metadata": {},
   "outputs": [],
   "source": [
    "import pandas as pd\n",
    "from nltk.tokenize import sent_tokenize\n",
    "import re"
   ]
  },
  {
   "cell_type": "code",
   "execution_count": 2,
   "id": "9f40756a-a3c0-46b9-bbbb-2001fc532cf2",
   "metadata": {},
   "outputs": [],
   "source": [
    "df = pd.read_csv('../value_identification/generations/generation_responses/acl_gemini.csv')\n",
    "df = df[df.response.notna()]"
   ]
  },
  {
   "cell_type": "code",
   "execution_count": 3,
   "id": "43805386-2300-4b7a-8855-a77726f6432c",
   "metadata": {},
   "outputs": [
    {
     "data": {
      "text/html": [
       "<div>\n",
       "<style scoped>\n",
       "    .dataframe tbody tr th:only-of-type {\n",
       "        vertical-align: middle;\n",
       "    }\n",
       "\n",
       "    .dataframe tbody tr th {\n",
       "        vertical-align: top;\n",
       "    }\n",
       "\n",
       "    .dataframe thead th {\n",
       "        text-align: right;\n",
       "    }\n",
       "</style>\n",
       "<table border=\"1\" class=\"dataframe\">\n",
       "  <thead>\n",
       "    <tr style=\"text-align: right;\">\n",
       "      <th></th>\n",
       "      <th>ACL_ID</th>\n",
       "      <th>Prompt</th>\n",
       "      <th>response</th>\n",
       "    </tr>\n",
       "  </thead>\n",
       "  <tbody>\n",
       "    <tr>\n",
       "      <th>0</th>\n",
       "      <td>W12-2037</td>\n",
       "      <td>I have the following research paper:\\nThe grow...</td>\n",
       "      <td>- \"Experimental results using Wikipedia as the...</td>\n",
       "    </tr>\n",
       "    <tr>\n",
       "      <th>1</th>\n",
       "      <td>W12-2037</td>\n",
       "      <td>I have the following research paper:\\nThe grow...</td>\n",
       "      <td>This research paper does not discuss the subje...</td>\n",
       "    </tr>\n",
       "    <tr>\n",
       "      <th>2</th>\n",
       "      <td>P07-1058</td>\n",
       "      <td>I have the following research paper:\\nObtainin...</td>\n",
       "      <td>I cannot find any excerpts in the provided tex...</td>\n",
       "    </tr>\n",
       "    <tr>\n",
       "      <th>3</th>\n",
       "      <td>P07-1058</td>\n",
       "      <td>I have the following research paper:\\nObtainin...</td>\n",
       "      <td>This research paper does not mention ease of i...</td>\n",
       "    </tr>\n",
       "    <tr>\n",
       "      <th>4</th>\n",
       "      <td>P07-1058</td>\n",
       "      <td>I have the following research paper:\\nObtainin...</td>\n",
       "      <td>The provided research paper does not mention f...</td>\n",
       "    </tr>\n",
       "    <tr>\n",
       "      <th>...</th>\n",
       "      <td>...</td>\n",
       "      <td>...</td>\n",
       "      <td>...</td>\n",
       "    </tr>\n",
       "    <tr>\n",
       "      <th>5833</th>\n",
       "      <td>W16-4804</td>\n",
       "      <td>I have the following research paper:\\nThis pap...</td>\n",
       "      <td>**There is no mention of reproducibility in th...</td>\n",
       "    </tr>\n",
       "    <tr>\n",
       "      <th>5834</th>\n",
       "      <td>W12-2037</td>\n",
       "      <td>I have the following research paper:\\nThe grow...</td>\n",
       "      <td>This research paper does not explicitly mentio...</td>\n",
       "    </tr>\n",
       "    <tr>\n",
       "      <th>5835</th>\n",
       "      <td>W12-2037</td>\n",
       "      <td>I have the following research paper:\\nThe grow...</td>\n",
       "      <td>The provided text does not explicitly mention ...</td>\n",
       "    </tr>\n",
       "    <tr>\n",
       "      <th>5836</th>\n",
       "      <td>W12-2037</td>\n",
       "      <td>I have the following research paper:\\nThe grow...</td>\n",
       "      <td>There is no mention of fairness in the provide...</td>\n",
       "    </tr>\n",
       "    <tr>\n",
       "      <th>5837</th>\n",
       "      <td>W12-2037</td>\n",
       "      <td>I have the following research paper:\\nThe grow...</td>\n",
       "      <td>- We propose to address the task of helping re...</td>\n",
       "    </tr>\n",
       "  </tbody>\n",
       "</table>\n",
       "<p>5760 rows × 3 columns</p>\n",
       "</div>"
      ],
      "text/plain": [
       "        ACL_ID                                             Prompt  \\\n",
       "0     W12-2037  I have the following research paper:\\nThe grow...   \n",
       "1     W12-2037  I have the following research paper:\\nThe grow...   \n",
       "2     P07-1058  I have the following research paper:\\nObtainin...   \n",
       "3     P07-1058  I have the following research paper:\\nObtainin...   \n",
       "4     P07-1058  I have the following research paper:\\nObtainin...   \n",
       "...        ...                                                ...   \n",
       "5833  W16-4804  I have the following research paper:\\nThis pap...   \n",
       "5834  W12-2037  I have the following research paper:\\nThe grow...   \n",
       "5835  W12-2037  I have the following research paper:\\nThe grow...   \n",
       "5836  W12-2037  I have the following research paper:\\nThe grow...   \n",
       "5837  W12-2037  I have the following research paper:\\nThe grow...   \n",
       "\n",
       "                                               response  \n",
       "0     - \"Experimental results using Wikipedia as the...  \n",
       "1     This research paper does not discuss the subje...  \n",
       "2     I cannot find any excerpts in the provided tex...  \n",
       "3     This research paper does not mention ease of i...  \n",
       "4     The provided research paper does not mention f...  \n",
       "...                                                 ...  \n",
       "5833  **There is no mention of reproducibility in th...  \n",
       "5834  This research paper does not explicitly mentio...  \n",
       "5835  The provided text does not explicitly mention ...  \n",
       "5836  There is no mention of fairness in the provide...  \n",
       "5837  - We propose to address the task of helping re...  \n",
       "\n",
       "[5760 rows x 3 columns]"
      ]
     },
     "execution_count": 3,
     "metadata": {},
     "output_type": "execute_result"
    }
   ],
   "source": [
    "df"
   ]
  },
  {
   "cell_type": "code",
   "execution_count": 4,
   "id": "4356053b-7334-493f-99b8-4f0a2411e04c",
   "metadata": {},
   "outputs": [],
   "source": [
    "def sent_tokens(text):\n",
    "    sents = []\n",
    "    for line in text.split('\\n'):\n",
    "        if text != '':\n",
    "            sents.extend(sent_tokenize(line))\n",
    "    return sents"
   ]
  },
  {
   "cell_type": "code",
   "execution_count": 5,
   "id": "6beed882-6360-43d0-b289-c89fae84900f",
   "metadata": {},
   "outputs": [],
   "source": [
    "df['response_sents'] = df.response.map(sent_tokens)"
   ]
  },
  {
   "cell_type": "code",
   "execution_count": 6,
   "id": "597fb9a4-0416-4d16-9007-3c881e74db72",
   "metadata": {},
   "outputs": [],
   "source": [
    "def clean_sents(sent_list):\n",
    "    return [re.sub(r'^\\d+\\.', '', s.lstrip('- ').replace('*', '')).strip().strip('\"') for s in sent_list]"
   ]
  },
  {
   "cell_type": "code",
   "execution_count": 7,
   "id": "a1df93a1-bc6e-401c-9a55-c4146bea50ea",
   "metadata": {},
   "outputs": [],
   "source": [
    "df['cleaned_response_sents'] = df.response_sents.map(clean_sents)"
   ]
  },
  {
   "cell_type": "code",
   "execution_count": 8,
   "id": "4f5ec337-6566-4ae2-b59e-b4242294111f",
   "metadata": {},
   "outputs": [],
   "source": [
    "def filter_sents(row):\n",
    "    return [s for s in row.cleaned_response_sents if s in row.Prompt]"
   ]
  },
  {
   "cell_type": "code",
   "execution_count": 9,
   "id": "8c5c832e-c8f8-481b-bc31-761fd41ce0c5",
   "metadata": {},
   "outputs": [],
   "source": [
    "df['filtered_sents'] = df.apply(filter_sents, axis=1)"
   ]
  },
  {
   "cell_type": "code",
   "execution_count": 10,
   "id": "19920ea0-318b-43e1-9b55-d6ad7ae948ca",
   "metadata": {},
   "outputs": [
    {
     "data": {
      "text/plain": [
       "0.3663194444444444"
      ]
     },
     "execution_count": 10,
     "metadata": {},
     "output_type": "execute_result"
    }
   ],
   "source": [
    "(df.filtered_sents.map(len) > 0).mean()"
   ]
  },
  {
   "cell_type": "code",
   "execution_count": 11,
   "id": "fe2fb27e-fc93-4d34-a287-7e2983dd0ef7",
   "metadata": {},
   "outputs": [],
   "source": [
    "df.response = df.filtered_sents.map(lambda l: ' '.join(l))"
   ]
  },
  {
   "cell_type": "code",
   "execution_count": 12,
   "id": "63d7f680-beff-4e7a-b3bc-7813546d0d4e",
   "metadata": {},
   "outputs": [],
   "source": [
    "df['value'] = df.Prompt.map(lambda p: p.split('\\n\\n')[-1].split(', which refers to')[0][53:])"
   ]
  },
  {
   "cell_type": "code",
   "execution_count": 13,
   "id": "cad77901-8d08-4d37-9c0d-2493f37f2b6d",
   "metadata": {},
   "outputs": [],
   "source": [
    "subset = df.loc[:, ['ACL_ID', 'value', 'response']]"
   ]
  },
  {
   "cell_type": "code",
   "execution_count": 14,
   "id": "af10a239-7e0c-4370-88f5-e3a2d3ae5cc6",
   "metadata": {},
   "outputs": [],
   "source": [
    "subset.columns = ['acl_id', 'value', 'response']"
   ]
  },
  {
   "cell_type": "code",
   "execution_count": 15,
   "id": "9aec3f6f-c3c4-4ea2-8352-2babe9fa623e",
   "metadata": {},
   "outputs": [
    {
     "data": {
      "text/html": [
       "<div>\n",
       "<style scoped>\n",
       "    .dataframe tbody tr th:only-of-type {\n",
       "        vertical-align: middle;\n",
       "    }\n",
       "\n",
       "    .dataframe tbody tr th {\n",
       "        vertical-align: top;\n",
       "    }\n",
       "\n",
       "    .dataframe thead th {\n",
       "        text-align: right;\n",
       "    }\n",
       "</style>\n",
       "<table border=\"1\" class=\"dataframe\">\n",
       "  <thead>\n",
       "    <tr style=\"text-align: right;\">\n",
       "      <th></th>\n",
       "      <th>acl_id</th>\n",
       "      <th>value</th>\n",
       "      <th>response</th>\n",
       "    </tr>\n",
       "  </thead>\n",
       "  <tbody>\n",
       "    <tr>\n",
       "      <th>0</th>\n",
       "      <td>W12-2037</td>\n",
       "      <td>performance</td>\n",
       "      <td>Experimental results using Wikipedia as the co...</td>\n",
       "    </tr>\n",
       "    <tr>\n",
       "      <th>1</th>\n",
       "      <td>W12-2037</td>\n",
       "      <td>reproducibility</td>\n",
       "      <td></td>\n",
       "    </tr>\n",
       "    <tr>\n",
       "      <th>2</th>\n",
       "      <td>P07-1058</td>\n",
       "      <td>building on past work</td>\n",
       "      <td></td>\n",
       "    </tr>\n",
       "    <tr>\n",
       "      <th>3</th>\n",
       "      <td>P07-1058</td>\n",
       "      <td>ease of implementation</td>\n",
       "      <td></td>\n",
       "    </tr>\n",
       "    <tr>\n",
       "      <th>4</th>\n",
       "      <td>P07-1058</td>\n",
       "      <td>fairness</td>\n",
       "      <td></td>\n",
       "    </tr>\n",
       "    <tr>\n",
       "      <th>...</th>\n",
       "      <td>...</td>\n",
       "      <td>...</td>\n",
       "      <td>...</td>\n",
       "    </tr>\n",
       "    <tr>\n",
       "      <th>5833</th>\n",
       "      <td>W16-4804</td>\n",
       "      <td>reproducibility</td>\n",
       "      <td></td>\n",
       "    </tr>\n",
       "    <tr>\n",
       "      <th>5834</th>\n",
       "      <td>W12-2037</td>\n",
       "      <td>building on past work</td>\n",
       "      <td></td>\n",
       "    </tr>\n",
       "    <tr>\n",
       "      <th>5835</th>\n",
       "      <td>W12-2037</td>\n",
       "      <td>ease of implementation</td>\n",
       "      <td></td>\n",
       "    </tr>\n",
       "    <tr>\n",
       "      <th>5836</th>\n",
       "      <td>W12-2037</td>\n",
       "      <td>fairness</td>\n",
       "      <td></td>\n",
       "    </tr>\n",
       "    <tr>\n",
       "      <th>5837</th>\n",
       "      <td>W12-2037</td>\n",
       "      <td>novelty</td>\n",
       "      <td>We propose to address the task of helping read...</td>\n",
       "    </tr>\n",
       "  </tbody>\n",
       "</table>\n",
       "<p>5760 rows × 3 columns</p>\n",
       "</div>"
      ],
      "text/plain": [
       "        acl_id                   value  \\\n",
       "0     W12-2037             performance   \n",
       "1     W12-2037         reproducibility   \n",
       "2     P07-1058   building on past work   \n",
       "3     P07-1058  ease of implementation   \n",
       "4     P07-1058                fairness   \n",
       "...        ...                     ...   \n",
       "5833  W16-4804         reproducibility   \n",
       "5834  W12-2037   building on past work   \n",
       "5835  W12-2037  ease of implementation   \n",
       "5836  W12-2037                fairness   \n",
       "5837  W12-2037                 novelty   \n",
       "\n",
       "                                               response  \n",
       "0     Experimental results using Wikipedia as the co...  \n",
       "1                                                        \n",
       "2                                                        \n",
       "3                                                        \n",
       "4                                                        \n",
       "...                                                 ...  \n",
       "5833                                                     \n",
       "5834                                                     \n",
       "5835                                                     \n",
       "5836                                                     \n",
       "5837  We propose to address the task of helping read...  \n",
       "\n",
       "[5760 rows x 3 columns]"
      ]
     },
     "execution_count": 15,
     "metadata": {},
     "output_type": "execute_result"
    }
   ],
   "source": [
    "subset"
   ]
  },
  {
   "cell_type": "code",
   "execution_count": 17,
   "id": "f3fcccfb-f350-413b-872d-15beffdf894b",
   "metadata": {},
   "outputs": [],
   "source": [
    "subset.to_csv('cleaned_acl_gemini.csv', index=False)"
   ]
  }
 ],
 "metadata": {
  "kernelspec": {
   "display_name": "Python 3 (ipykernel)",
   "language": "python",
   "name": "python3"
  },
  "language_info": {
   "codemirror_mode": {
    "name": "ipython",
    "version": 3
   },
   "file_extension": ".py",
   "mimetype": "text/x-python",
   "name": "python",
   "nbconvert_exporter": "python",
   "pygments_lexer": "ipython3",
   "version": "3.11.4"
  }
 },
 "nbformat": 4,
 "nbformat_minor": 5
}
