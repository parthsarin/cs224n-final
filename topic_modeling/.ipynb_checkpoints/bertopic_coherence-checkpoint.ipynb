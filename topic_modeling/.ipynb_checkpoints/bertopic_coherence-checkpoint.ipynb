{
 "cells": [
  {
   "cell_type": "code",
   "execution_count": 130,
   "id": "ef96fc2c-7f74-44da-8f47-ba676f538bbb",
   "metadata": {},
   "outputs": [],
   "source": [
    "import pandas as pd\n",
    "from sklearn.feature_extraction.text import CountVectorizer\n",
    "from gensim.models.coherencemodel import CoherenceModel\n",
    "import gensim\n",
    "from nltk.tokenize import word_tokenize\n",
    "from nltk.corpus import stopwords\n",
    "import re"
   ]
  },
  {
   "cell_type": "code",
   "execution_count": 148,
   "id": "9ee7eff1-ce7a-418d-868d-2aa11d2ec6b2",
   "metadata": {},
   "outputs": [],
   "source": [
    "def preprocess_text(text):\n",
    "    tokens = word_tokenize(text.lower())\n",
    "    tokens = [re.sub(r'\\W+', '', token) for token in tokens if re.sub(r'\\W+', '', token)]\n",
    "    stop_words = set(stopwords.words('english'))\n",
    "    tokens = [token for token in tokens if token not in stop_words]\n",
    "    return tokens"
   ]
  },
  {
   "cell_type": "code",
   "execution_count": 162,
   "id": "9ad03328-292a-4bb8-9e7d-41f697f7d318",
   "metadata": {},
   "outputs": [],
   "source": [
    "values = ['building on past work', 'ease of implementation', 'fairness', 'novelty', 'performance', 'reproducibility']"
   ]
  },
  {
   "cell_type": "code",
   "execution_count": 163,
   "id": "dd0ade40-3536-4c2f-827e-c0099b76156e",
   "metadata": {},
   "outputs": [
    {
     "name": "stdout",
     "output_type": "stream",
     "text": [
      "Value: building on past work\n",
      "Num Topics: 11\n",
      "Coherence: -2.5962737034813648\n",
      "Value: ease of implementation\n",
      "Num Topics: 1\n",
      "Coherence: -7.825203541329992\n",
      "Value: fairness\n",
      "Num Topics: 1\n",
      "Coherence: -14.289849745465883\n",
      "Value: novelty\n",
      "Num Topics: 1\n",
      "Coherence: -1.3689293867310974\n",
      "Value: performance\n",
      "Num Topics: 10\n",
      "Coherence: -3.259315154759512\n",
      "Value: reproducibility\n",
      "Num Topics: 4\n",
      "Coherence: -3.64009805505403\n"
     ]
    }
   ],
   "source": [
    "for value in values:\n",
    "    print('Value:', value)\n",
    "    df = pd.read_csv(f'parth code/cs224n-final/topics/{value}.csv')\n",
    "    df = df[df.Document.notna()]\n",
    "    df.Representation = df.Representation.map(eval)\n",
    "    vectorizer = CountVectorizer(stop_words='english')\n",
    "    data_vectorized = vectorizer.fit_transform(df.Document)\n",
    "    corpus = gensim.matutils.Sparse2Corpus(data_vectorized, documents_columns=False)\n",
    "    dictionary = gensim.corpora.Dictionary.from_corpus(corpus, id2word=dict((id, word) for word, id in vectorizer.vocabulary_.items()))\n",
    "    data_processed = df.Document.map(preprocess_text)\n",
    "    topics = df['Representation'].drop_duplicates()\n",
    "    print('Num Topics:', len(topics))\n",
    "    coherence_model = CoherenceModel(topics=topics, texts=data_processed, dictionary=dictionary, coherence='u_mass')\n",
    "    coherence = coherence_model.get_coherence()\n",
    "    print('Coherence:', coherence)"
   ]
  }
 ],
 "metadata": {
  "kernelspec": {
   "display_name": "Python 3 (ipykernel)",
   "language": "python",
   "name": "python3"
  },
  "language_info": {
   "codemirror_mode": {
    "name": "ipython",
    "version": 3
   },
   "file_extension": ".py",
   "mimetype": "text/x-python",
   "name": "python",
   "nbconvert_exporter": "python",
   "pygments_lexer": "ipython3",
   "version": "3.11.4"
  }
 },
 "nbformat": 4,
 "nbformat_minor": 5
}
