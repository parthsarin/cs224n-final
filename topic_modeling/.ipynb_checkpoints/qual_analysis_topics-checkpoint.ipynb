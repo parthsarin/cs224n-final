{
 "cells": [
  {
   "cell_type": "code",
   "execution_count": 2,
   "id": "898d1a22-3628-49cc-a279-cc3d1fb59e2c",
   "metadata": {},
   "outputs": [],
   "source": [
    "import pandas as pd\n",
    "import os"
   ]
  },
  {
   "cell_type": "code",
   "execution_count": 3,
   "id": "ea36a168-b89b-484c-9950-81716bdf62a3",
   "metadata": {},
   "outputs": [],
   "source": [
    "lda_path = 'topic_data/'"
   ]
  },
  {
   "cell_type": "code",
   "execution_count": 4,
   "id": "8a140f69-0c36-46c5-94e3-2390bcf8736a",
   "metadata": {},
   "outputs": [
    {
     "name": "stdout",
     "output_type": "stream",
     "text": [
      "novelty.csv\n",
      "performance.csv\n",
      "building on past work.csv\n",
      "fairness.csv\n",
      "reproducibility.csv\n",
      "ease of implementation.csv\n"
     ]
    }
   ],
   "source": [
    "for f in os.listdir(lda_path):\n",
    "    print(f)\n",
    "    df = pd.read_csv(lda_path + f)\n",
    "    topics = df.topic_words.unique()\n",
    "    for ls in topics:\n",
    "        print('    ', ls"
   ]
  },
  {
   "cell_type": "code",
   "execution_count": null,
   "id": "da1770d8-22ed-46ef-ae96-01e4b0da78a2",
   "metadata": {},
   "outputs": [],
   "source": [
    "bertopic_path = 'parth code/cs224n-final/topics/'"
   ]
  },
  {
   "cell_type": "code",
   "execution_count": null,
   "id": "f7a18051-34e2-475b-86ec-56ea3466ff80",
   "metadata": {},
   "outputs": [],
   "source": [
    "for f in os.listdir(bertopic_path):\n",
    "    print(f)\n",
    "    df = pd.read_csv(bertopic_path + f)\n",
    "    topics = df.Representation.unique()\n",
    "    for ls in topics:\n",
    "        print('    ', ls"
   ]
  }
 ],
 "metadata": {
  "kernelspec": {
   "display_name": "Python 3 (ipykernel)",
   "language": "python",
   "name": "python3"
  },
  "language_info": {
   "codemirror_mode": {
    "name": "ipython",
    "version": 3
   },
   "file_extension": ".py",
   "mimetype": "text/x-python",
   "name": "python",
   "nbconvert_exporter": "python",
   "pygments_lexer": "ipython3",
   "version": "3.11.4"
  }
 },
 "nbformat": 4,
 "nbformat_minor": 5
}
